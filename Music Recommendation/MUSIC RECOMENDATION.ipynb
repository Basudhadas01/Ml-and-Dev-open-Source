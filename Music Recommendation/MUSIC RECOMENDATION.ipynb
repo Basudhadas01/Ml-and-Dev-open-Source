{
 "cells": [
  {
   "cell_type": "code",
   "execution_count": 1,
   "id": "81fb622f",
   "metadata": {},
   "outputs": [],
   "source": [
    "import pandas as pd\n",
    "from sklearn.tree import DecisionTreeClassifier\n",
    "from sklearn.model_selection import train_test_split\n",
    "from sklearn.metrics import accuracy_score \n",
    "music_data=pd.read_csv('music.csv ')\n",
    "X=music_data.drop(columns=['genre'])\n",
    "Y=music_data['genre']\n",
    "X_train,X_test,Y_train,Y_test=train_test_split(X,Y,test_size=0.2)\n"
   ]
  },
  {
   "cell_type": "code",
   "execution_count": 2,
   "id": "de8d55e4",
   "metadata": {},
   "outputs": [
    {
     "data": {
      "text/plain": [
       "0.75"
      ]
     },
     "execution_count": 2,
     "metadata": {},
     "output_type": "execute_result"
    }
   ],
   "source": [
    "model=DecisionTreeClassifier()\n",
    "model.fit(X_train,Y_train)\n",
    "prediction=model.predict(X_test)\n",
    "score=accuracy_score(Y_test,prediction)\n",
    "score"
   ]
  },
  {
   "cell_type": "code",
   "execution_count": null,
   "id": "d8e598e5",
   "metadata": {},
   "outputs": [],
   "source": []
  }
 ],
 "metadata": {
  "kernelspec": {
   "display_name": "Python 3.10.5 64-bit",
   "language": "python",
   "name": "python3"
  },
  "language_info": {
   "codemirror_mode": {
    "name": "ipython",
    "version": 3
   },
   "file_extension": ".py",
   "mimetype": "text/x-python",
   "name": "python",
   "nbconvert_exporter": "python",
   "pygments_lexer": "ipython3",
   "version": "3.10.5"
  },
  "vscode": {
   "interpreter": {
    "hash": "87a2f7b1ede533592bb3fee6b85c511938474401bbb5b6dcd8712c81958b7848"
   }
  }
 },
 "nbformat": 4,
 "nbformat_minor": 5
}
